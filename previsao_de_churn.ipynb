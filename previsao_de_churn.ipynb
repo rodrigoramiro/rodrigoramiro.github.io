{
  "nbformat": 4,
  "nbformat_minor": 0,
  "metadata": {
    "kernelspec": {
      "display_name": "Python 3",
      "language": "python",
      "name": "python3"
    },
    "language_info": {
      "codemirror_mode": {
        "name": "ipython",
        "version": 3
      },
      "file_extension": ".py",
      "mimetype": "text/x-python",
      "name": "python",
      "nbconvert_exporter": "python",
      "pygments_lexer": "ipython3",
      "version": "3.7.0"
    },
    "colab": {
      "name": "previsao-de-churn.ipynb",
      "provenance": [],
      "collapsed_sections": [
        "YOKIUG3-7-q6"
      ],
      "include_colab_link": true
    }
  },
  "cells": [
    {
      "cell_type": "markdown",
      "metadata": {
        "id": "view-in-github",
        "colab_type": "text"
      },
      "source": [
        "<a href=\"https://colab.research.google.com/github/rodrigoramiro/rodrigoramiro.github.io/blob/master/previsao_de_churn.ipynb\" target=\"_parent\"><img src=\"https://colab.research.google.com/assets/colab-badge.svg\" alt=\"Open In Colab\"/></a>"
      ]
    },
    {
      "cell_type": "markdown",
      "metadata": {
        "id": "YOKIUG3-7-q6"
      },
      "source": [
        "# Previsão de Churn "
      ]
    },
    {
      "cell_type": "markdown",
      "metadata": {
        "id": "SvlZFATq7-q7"
      },
      "source": [
        "O Churn (rotatividade ou não-retenção)  de clientes, também conhecido como atrito de clientes, ocorre quando os clientes param de fazer negócios com uma empresa. As empresas estão interessadas em identificar segmentos desses clientes porque o preço para adquirir um novo cliente é geralmente mais alto do que reter o antigo. Por exemplo, se a Netflix conhecesse um segmento de clientes que corria o risco de abandono, eles poderiam envolvê-los proativamente com ofertas especiais, em vez de simplesmente perdê-los."
      ]
    },
    {
      "cell_type": "markdown",
      "metadata": {
        "id": "36g0Xyuz7-q8"
      },
      "source": [
        "## Bibliotecas"
      ]
    },
    {
      "cell_type": "code",
      "metadata": {
        "id": "LagdvNkl7-q9"
      },
      "source": [
        "import platform\n",
        "import pandas as pd\n",
        "import sklearn\n",
        "import numpy as np\n",
        "import graphviz\n",
        "import matplotlib\n",
        "import matplotlib.pyplot as plt\n",
        "\n",
        "%matplotlib inline"
      ],
      "execution_count": null,
      "outputs": []
    },
    {
      "cell_type": "code",
      "metadata": {
        "id": "liaaECSj7-rC",
        "outputId": "c9485dbb-b3e7-41c4-cbb3-1fc63fe147bf",
        "colab": {
          "base_uri": "https://localhost:8080/",
          "height": 136
        }
      },
      "source": [
        "print('=== inventário das versões ===')\n",
        "print('python version', platform.python_version())\n",
        "print('pandas version', pd.__version__)\n",
        "print('sklearn version', sklearn.__version__)\n",
        "print('numpy version', np.__version__)\n",
        "print('graphviz version', graphviz.__version__)\n",
        "print('matplotlib version', matplotlib.__version__)"
      ],
      "execution_count": null,
      "outputs": [
        {
          "output_type": "stream",
          "text": [
            "=== inventário das versões ===\n",
            "python version 3.6.9\n",
            "pandas version 1.1.2\n",
            "sklearn version 0.22.2.post1\n",
            "numpy version 1.18.5\n",
            "graphviz version 0.10.1\n",
            "matplotlib version 3.2.2\n"
          ],
          "name": "stdout"
        }
      ]
    },
    {
      "cell_type": "markdown",
      "metadata": {
        "id": "CD-N7Pq_7-rJ"
      },
      "source": [
        "## Prepração do Dataset\n",
        "\n",
        "Usamos o pandas para ler o conjunto de dados e pré-processá-lo. O conjunto de dados Telco tem um cliente por linha com muitas colunas (recursos).\n",
        "Não há nenhuma linha com todos os valores ausentes ou duplicados (isso raramente acontece com conjuntos de dados do mundo real).\n",
        "Caso existam amostras com TotalCharges definido como \"\", por exemplo, seria um erro nos dados. Removemos essas amostras e definimos o tipo como numérico (flutuante)."
      ]
    },
    {
      "cell_type": "code",
      "metadata": {
        "id": "oTlnIHPruV15"
      },
      "source": [
        "#Derive the id from the google drive shareable link.\n",
        "#For the file at hand the link is as below\n",
        "#url2 = 'http://'\n",
        "#url1 = 'http://'\n",
        "#df = pd.read_pickle(url1)\n",
        "#df = pd.read_csv(url1)\n",
        "#df.head()"
      ],
      "execution_count": null,
      "outputs": []
    },
    {
      "cell_type": "code",
      "metadata": {
        "id": "ksYEQPjIsMYX",
        "outputId": "ce2792b6-c10a-4098-94e1-1d48fd381282",
        "colab": {
          "base_uri": "https://localhost:8080/",
          "height": 34
        }
      },
      "source": [
        "from google.colab import drive\n",
        "drive.mount('/content/drive')"
      ],
      "execution_count": null,
      "outputs": [
        {
          "output_type": "stream",
          "text": [
            "Mounted at /content/drive\n"
          ],
          "name": "stdout"
        }
      ]
    },
    {
      "cell_type": "code",
      "metadata": {
        "id": "nAbxTZBp7-rJ",
        "outputId": "0505cd18-68df-4e21-843a-9ce2287af90b",
        "colab": {
          "base_uri": "https://localhost:8080/",
          "height": 34
        }
      },
      "source": [
        "df = pd.read_csv('/content/drive/My Drive/Colab Notebooks/datasets/WA_Fn-UseC_-Telco-Customer-Churn.csv')\n",
        "\n",
        "df.shape"
      ],
      "execution_count": 57,
      "outputs": [
        {
          "output_type": "execute_result",
          "data": {
            "text/plain": [
              "(7043, 21)"
            ]
          },
          "metadata": {
            "tags": []
          },
          "execution_count": 57
        }
      ]
    },
    {
      "cell_type": "code",
      "metadata": {
        "id": "_XP_mZBW7-rO",
        "outputId": "b1ac95c5-ce54-4cce-e917-7bd568706664",
        "colab": {
          "base_uri": "https://localhost:8080/",
          "height": 309
        }
      },
      "source": [
        "df.head()"
      ],
      "execution_count": 58,
      "outputs": [
        {
          "output_type": "execute_result",
          "data": {
            "text/html": [
              "<div>\n",
              "<style scoped>\n",
              "    .dataframe tbody tr th:only-of-type {\n",
              "        vertical-align: middle;\n",
              "    }\n",
              "\n",
              "    .dataframe tbody tr th {\n",
              "        vertical-align: top;\n",
              "    }\n",
              "\n",
              "    .dataframe thead th {\n",
              "        text-align: right;\n",
              "    }\n",
              "</style>\n",
              "<table border=\"1\" class=\"dataframe\">\n",
              "  <thead>\n",
              "    <tr style=\"text-align: right;\">\n",
              "      <th></th>\n",
              "      <th>customerID</th>\n",
              "      <th>gender</th>\n",
              "      <th>SeniorCitizen</th>\n",
              "      <th>Partner</th>\n",
              "      <th>Dependents</th>\n",
              "      <th>tenure</th>\n",
              "      <th>PhoneService</th>\n",
              "      <th>MultipleLines</th>\n",
              "      <th>InternetService</th>\n",
              "      <th>OnlineSecurity</th>\n",
              "      <th>OnlineBackup</th>\n",
              "      <th>DeviceProtection</th>\n",
              "      <th>TechSupport</th>\n",
              "      <th>StreamingTV</th>\n",
              "      <th>StreamingMovies</th>\n",
              "      <th>Contract</th>\n",
              "      <th>PaperlessBilling</th>\n",
              "      <th>PaymentMethod</th>\n",
              "      <th>MonthlyCharges</th>\n",
              "      <th>TotalCharges</th>\n",
              "      <th>Churn</th>\n",
              "    </tr>\n",
              "  </thead>\n",
              "  <tbody>\n",
              "    <tr>\n",
              "      <th>0</th>\n",
              "      <td>7590-VHVEG</td>\n",
              "      <td>Female</td>\n",
              "      <td>0</td>\n",
              "      <td>Yes</td>\n",
              "      <td>No</td>\n",
              "      <td>1</td>\n",
              "      <td>No</td>\n",
              "      <td>No phone service</td>\n",
              "      <td>DSL</td>\n",
              "      <td>No</td>\n",
              "      <td>Yes</td>\n",
              "      <td>No</td>\n",
              "      <td>No</td>\n",
              "      <td>No</td>\n",
              "      <td>No</td>\n",
              "      <td>Month-to-month</td>\n",
              "      <td>Yes</td>\n",
              "      <td>Electronic check</td>\n",
              "      <td>29.85</td>\n",
              "      <td>29.85</td>\n",
              "      <td>No</td>\n",
              "    </tr>\n",
              "    <tr>\n",
              "      <th>1</th>\n",
              "      <td>5575-GNVDE</td>\n",
              "      <td>Male</td>\n",
              "      <td>0</td>\n",
              "      <td>No</td>\n",
              "      <td>No</td>\n",
              "      <td>34</td>\n",
              "      <td>Yes</td>\n",
              "      <td>No</td>\n",
              "      <td>DSL</td>\n",
              "      <td>Yes</td>\n",
              "      <td>No</td>\n",
              "      <td>Yes</td>\n",
              "      <td>No</td>\n",
              "      <td>No</td>\n",
              "      <td>No</td>\n",
              "      <td>One year</td>\n",
              "      <td>No</td>\n",
              "      <td>Mailed check</td>\n",
              "      <td>56.95</td>\n",
              "      <td>1889.5</td>\n",
              "      <td>No</td>\n",
              "    </tr>\n",
              "    <tr>\n",
              "      <th>2</th>\n",
              "      <td>3668-QPYBK</td>\n",
              "      <td>Male</td>\n",
              "      <td>0</td>\n",
              "      <td>No</td>\n",
              "      <td>No</td>\n",
              "      <td>2</td>\n",
              "      <td>Yes</td>\n",
              "      <td>No</td>\n",
              "      <td>DSL</td>\n",
              "      <td>Yes</td>\n",
              "      <td>Yes</td>\n",
              "      <td>No</td>\n",
              "      <td>No</td>\n",
              "      <td>No</td>\n",
              "      <td>No</td>\n",
              "      <td>Month-to-month</td>\n",
              "      <td>Yes</td>\n",
              "      <td>Mailed check</td>\n",
              "      <td>53.85</td>\n",
              "      <td>108.15</td>\n",
              "      <td>Yes</td>\n",
              "    </tr>\n",
              "    <tr>\n",
              "      <th>3</th>\n",
              "      <td>7795-CFOCW</td>\n",
              "      <td>Male</td>\n",
              "      <td>0</td>\n",
              "      <td>No</td>\n",
              "      <td>No</td>\n",
              "      <td>45</td>\n",
              "      <td>No</td>\n",
              "      <td>No phone service</td>\n",
              "      <td>DSL</td>\n",
              "      <td>Yes</td>\n",
              "      <td>No</td>\n",
              "      <td>Yes</td>\n",
              "      <td>Yes</td>\n",
              "      <td>No</td>\n",
              "      <td>No</td>\n",
              "      <td>One year</td>\n",
              "      <td>No</td>\n",
              "      <td>Bank transfer (automatic)</td>\n",
              "      <td>42.30</td>\n",
              "      <td>1840.75</td>\n",
              "      <td>No</td>\n",
              "    </tr>\n",
              "    <tr>\n",
              "      <th>4</th>\n",
              "      <td>9237-HQITU</td>\n",
              "      <td>Female</td>\n",
              "      <td>0</td>\n",
              "      <td>No</td>\n",
              "      <td>No</td>\n",
              "      <td>2</td>\n",
              "      <td>Yes</td>\n",
              "      <td>No</td>\n",
              "      <td>Fiber optic</td>\n",
              "      <td>No</td>\n",
              "      <td>No</td>\n",
              "      <td>No</td>\n",
              "      <td>No</td>\n",
              "      <td>No</td>\n",
              "      <td>No</td>\n",
              "      <td>Month-to-month</td>\n",
              "      <td>Yes</td>\n",
              "      <td>Electronic check</td>\n",
              "      <td>70.70</td>\n",
              "      <td>151.65</td>\n",
              "      <td>Yes</td>\n",
              "    </tr>\n",
              "  </tbody>\n",
              "</table>\n",
              "</div>"
            ],
            "text/plain": [
              "   customerID  gender  SeniorCitizen  ... MonthlyCharges TotalCharges  Churn\n",
              "0  7590-VHVEG  Female              0  ...          29.85        29.85     No\n",
              "1  5575-GNVDE    Male              0  ...          56.95       1889.5     No\n",
              "2  3668-QPYBK    Male              0  ...          53.85       108.15    Yes\n",
              "3  7795-CFOCW    Male              0  ...          42.30      1840.75     No\n",
              "4  9237-HQITU  Female              0  ...          70.70       151.65    Yes\n",
              "\n",
              "[5 rows x 21 columns]"
            ]
          },
          "metadata": {
            "tags": []
          },
          "execution_count": 58
        }
      ]
    },
    {
      "cell_type": "code",
      "metadata": {
        "id": "gT64UTnr7-rT",
        "outputId": "099fd4f2-e124-48a0-ea09-b2ec80795423",
        "colab": {
          "base_uri": "https://localhost:8080/",
          "height": 34
        }
      },
      "source": [
        "df = df.dropna(how=\"all\")  # remove samples with all missing values\n",
        "df.shape"
      ],
      "execution_count": 59,
      "outputs": [
        {
          "output_type": "execute_result",
          "data": {
            "text/plain": [
              "(7043, 21)"
            ]
          },
          "metadata": {
            "tags": []
          },
          "execution_count": 59
        }
      ]
    },
    {
      "cell_type": "code",
      "metadata": {
        "id": "BXbyDK097-rX",
        "outputId": "931d5f12-c092-4804-ced9-93ac4b44b222",
        "colab": {
          "base_uri": "https://localhost:8080/",
          "height": 34
        }
      },
      "source": [
        "df = df[~df.duplicated()] # remove duplicates\n",
        "df.shape"
      ],
      "execution_count": 60,
      "outputs": [
        {
          "output_type": "execute_result",
          "data": {
            "text/plain": [
              "(7043, 21)"
            ]
          },
          "metadata": {
            "tags": []
          },
          "execution_count": 60
        }
      ]
    },
    {
      "cell_type": "code",
      "metadata": {
        "id": "Tqs1BtCy7-rd",
        "outputId": "0bdc0500-e99a-4ca1-b7bd-2ebd3f86741e",
        "colab": {
          "base_uri": "https://localhost:8080/",
          "height": 34
        }
      },
      "source": [
        "total_charges_filter = df.TotalCharges == \" \"\n",
        "df = df[~total_charges_filter]\n",
        "df.shape"
      ],
      "execution_count": 61,
      "outputs": [
        {
          "output_type": "execute_result",
          "data": {
            "text/plain": [
              "(7032, 21)"
            ]
          },
          "metadata": {
            "tags": []
          },
          "execution_count": 61
        }
      ]
    },
    {
      "cell_type": "code",
      "metadata": {
        "id": "bIuGqSa47-ri"
      },
      "source": [
        "df.TotalCharges = pd.to_numeric(df.TotalCharges)"
      ],
      "execution_count": 63,
      "outputs": []
    },
    {
      "cell_type": "markdown",
      "metadata": {
        "id": "ReOQX3107-rn"
      },
      "source": [
        "## Análise exploratória dos dados\n",
        "Temos 2 tipos de recursos no conjunto de dados: categóricos (dois ou mais valores e sem qualquer ordem) e numéricos. A maioria dos nomes de recursos são autoexplicativos, exceto por:\n",
        "\n",
        "- Parceiro: se o cliente tem um parceiro ou não (Sim, Não),\n",
        "- Dependentes: se o cliente tem dependentes ou não (Sim, Não),\n",
        "- Backup online: se o cliente tem backup online ou não (Sim, Não, Sem serviço de internet),\n",
        "mandato: número de meses que o cliente permaneceu na empresa,\n",
        "- Mensalidades: o valor cobrado do cliente mensalmente,\n",
        "- TotalCharges: valor total cobrado do cliente.\n",
        "- Caso existem clientes e recursos  no conjunto de dados sem customerID (não informativo) e coluna Churn (variável de destino). A maioria dos recursos categóricos tem 4 ou menos valores exclusivos.\n"
      ]
    },
    {
      "cell_type": "code",
      "metadata": {
        "id": "irx1RvvC7-rn",
        "outputId": "3935e3e9-9df0-4a6e-f658-8f54fb1a693f",
        "colab": {
          "base_uri": "https://localhost:8080/",
          "height": 427
        }
      },
      "source": [
        "df.describe(include='all')"
      ],
      "execution_count": 64,
      "outputs": [
        {
          "output_type": "execute_result",
          "data": {
            "text/html": [
              "<div>\n",
              "<style scoped>\n",
              "    .dataframe tbody tr th:only-of-type {\n",
              "        vertical-align: middle;\n",
              "    }\n",
              "\n",
              "    .dataframe tbody tr th {\n",
              "        vertical-align: top;\n",
              "    }\n",
              "\n",
              "    .dataframe thead th {\n",
              "        text-align: right;\n",
              "    }\n",
              "</style>\n",
              "<table border=\"1\" class=\"dataframe\">\n",
              "  <thead>\n",
              "    <tr style=\"text-align: right;\">\n",
              "      <th></th>\n",
              "      <th>customerID</th>\n",
              "      <th>gender</th>\n",
              "      <th>SeniorCitizen</th>\n",
              "      <th>Partner</th>\n",
              "      <th>Dependents</th>\n",
              "      <th>tenure</th>\n",
              "      <th>PhoneService</th>\n",
              "      <th>MultipleLines</th>\n",
              "      <th>InternetService</th>\n",
              "      <th>OnlineSecurity</th>\n",
              "      <th>OnlineBackup</th>\n",
              "      <th>DeviceProtection</th>\n",
              "      <th>TechSupport</th>\n",
              "      <th>StreamingTV</th>\n",
              "      <th>StreamingMovies</th>\n",
              "      <th>Contract</th>\n",
              "      <th>PaperlessBilling</th>\n",
              "      <th>PaymentMethod</th>\n",
              "      <th>MonthlyCharges</th>\n",
              "      <th>TotalCharges</th>\n",
              "      <th>Churn</th>\n",
              "    </tr>\n",
              "  </thead>\n",
              "  <tbody>\n",
              "    <tr>\n",
              "      <th>count</th>\n",
              "      <td>7032</td>\n",
              "      <td>7032</td>\n",
              "      <td>7032.000000</td>\n",
              "      <td>7032</td>\n",
              "      <td>7032</td>\n",
              "      <td>7032.000000</td>\n",
              "      <td>7032</td>\n",
              "      <td>7032</td>\n",
              "      <td>7032</td>\n",
              "      <td>7032</td>\n",
              "      <td>7032</td>\n",
              "      <td>7032</td>\n",
              "      <td>7032</td>\n",
              "      <td>7032</td>\n",
              "      <td>7032</td>\n",
              "      <td>7032</td>\n",
              "      <td>7032</td>\n",
              "      <td>7032</td>\n",
              "      <td>7032.000000</td>\n",
              "      <td>7032.000000</td>\n",
              "      <td>7032</td>\n",
              "    </tr>\n",
              "    <tr>\n",
              "      <th>unique</th>\n",
              "      <td>7032</td>\n",
              "      <td>2</td>\n",
              "      <td>NaN</td>\n",
              "      <td>2</td>\n",
              "      <td>2</td>\n",
              "      <td>NaN</td>\n",
              "      <td>2</td>\n",
              "      <td>3</td>\n",
              "      <td>3</td>\n",
              "      <td>3</td>\n",
              "      <td>3</td>\n",
              "      <td>3</td>\n",
              "      <td>3</td>\n",
              "      <td>3</td>\n",
              "      <td>3</td>\n",
              "      <td>3</td>\n",
              "      <td>2</td>\n",
              "      <td>4</td>\n",
              "      <td>NaN</td>\n",
              "      <td>NaN</td>\n",
              "      <td>2</td>\n",
              "    </tr>\n",
              "    <tr>\n",
              "      <th>top</th>\n",
              "      <td>9249-FXSCK</td>\n",
              "      <td>Male</td>\n",
              "      <td>NaN</td>\n",
              "      <td>No</td>\n",
              "      <td>No</td>\n",
              "      <td>NaN</td>\n",
              "      <td>Yes</td>\n",
              "      <td>No</td>\n",
              "      <td>Fiber optic</td>\n",
              "      <td>No</td>\n",
              "      <td>No</td>\n",
              "      <td>No</td>\n",
              "      <td>No</td>\n",
              "      <td>No</td>\n",
              "      <td>No</td>\n",
              "      <td>Month-to-month</td>\n",
              "      <td>Yes</td>\n",
              "      <td>Electronic check</td>\n",
              "      <td>NaN</td>\n",
              "      <td>NaN</td>\n",
              "      <td>No</td>\n",
              "    </tr>\n",
              "    <tr>\n",
              "      <th>freq</th>\n",
              "      <td>1</td>\n",
              "      <td>3549</td>\n",
              "      <td>NaN</td>\n",
              "      <td>3639</td>\n",
              "      <td>4933</td>\n",
              "      <td>NaN</td>\n",
              "      <td>6352</td>\n",
              "      <td>3385</td>\n",
              "      <td>3096</td>\n",
              "      <td>3497</td>\n",
              "      <td>3087</td>\n",
              "      <td>3094</td>\n",
              "      <td>3472</td>\n",
              "      <td>2809</td>\n",
              "      <td>2781</td>\n",
              "      <td>3875</td>\n",
              "      <td>4168</td>\n",
              "      <td>2365</td>\n",
              "      <td>NaN</td>\n",
              "      <td>NaN</td>\n",
              "      <td>5163</td>\n",
              "    </tr>\n",
              "    <tr>\n",
              "      <th>mean</th>\n",
              "      <td>NaN</td>\n",
              "      <td>NaN</td>\n",
              "      <td>0.162400</td>\n",
              "      <td>NaN</td>\n",
              "      <td>NaN</td>\n",
              "      <td>32.421786</td>\n",
              "      <td>NaN</td>\n",
              "      <td>NaN</td>\n",
              "      <td>NaN</td>\n",
              "      <td>NaN</td>\n",
              "      <td>NaN</td>\n",
              "      <td>NaN</td>\n",
              "      <td>NaN</td>\n",
              "      <td>NaN</td>\n",
              "      <td>NaN</td>\n",
              "      <td>NaN</td>\n",
              "      <td>NaN</td>\n",
              "      <td>NaN</td>\n",
              "      <td>64.798208</td>\n",
              "      <td>2283.300441</td>\n",
              "      <td>NaN</td>\n",
              "    </tr>\n",
              "    <tr>\n",
              "      <th>std</th>\n",
              "      <td>NaN</td>\n",
              "      <td>NaN</td>\n",
              "      <td>0.368844</td>\n",
              "      <td>NaN</td>\n",
              "      <td>NaN</td>\n",
              "      <td>24.545260</td>\n",
              "      <td>NaN</td>\n",
              "      <td>NaN</td>\n",
              "      <td>NaN</td>\n",
              "      <td>NaN</td>\n",
              "      <td>NaN</td>\n",
              "      <td>NaN</td>\n",
              "      <td>NaN</td>\n",
              "      <td>NaN</td>\n",
              "      <td>NaN</td>\n",
              "      <td>NaN</td>\n",
              "      <td>NaN</td>\n",
              "      <td>NaN</td>\n",
              "      <td>30.085974</td>\n",
              "      <td>2266.771362</td>\n",
              "      <td>NaN</td>\n",
              "    </tr>\n",
              "    <tr>\n",
              "      <th>min</th>\n",
              "      <td>NaN</td>\n",
              "      <td>NaN</td>\n",
              "      <td>0.000000</td>\n",
              "      <td>NaN</td>\n",
              "      <td>NaN</td>\n",
              "      <td>1.000000</td>\n",
              "      <td>NaN</td>\n",
              "      <td>NaN</td>\n",
              "      <td>NaN</td>\n",
              "      <td>NaN</td>\n",
              "      <td>NaN</td>\n",
              "      <td>NaN</td>\n",
              "      <td>NaN</td>\n",
              "      <td>NaN</td>\n",
              "      <td>NaN</td>\n",
              "      <td>NaN</td>\n",
              "      <td>NaN</td>\n",
              "      <td>NaN</td>\n",
              "      <td>18.250000</td>\n",
              "      <td>18.800000</td>\n",
              "      <td>NaN</td>\n",
              "    </tr>\n",
              "    <tr>\n",
              "      <th>25%</th>\n",
              "      <td>NaN</td>\n",
              "      <td>NaN</td>\n",
              "      <td>0.000000</td>\n",
              "      <td>NaN</td>\n",
              "      <td>NaN</td>\n",
              "      <td>9.000000</td>\n",
              "      <td>NaN</td>\n",
              "      <td>NaN</td>\n",
              "      <td>NaN</td>\n",
              "      <td>NaN</td>\n",
              "      <td>NaN</td>\n",
              "      <td>NaN</td>\n",
              "      <td>NaN</td>\n",
              "      <td>NaN</td>\n",
              "      <td>NaN</td>\n",
              "      <td>NaN</td>\n",
              "      <td>NaN</td>\n",
              "      <td>NaN</td>\n",
              "      <td>35.587500</td>\n",
              "      <td>401.450000</td>\n",
              "      <td>NaN</td>\n",
              "    </tr>\n",
              "    <tr>\n",
              "      <th>50%</th>\n",
              "      <td>NaN</td>\n",
              "      <td>NaN</td>\n",
              "      <td>0.000000</td>\n",
              "      <td>NaN</td>\n",
              "      <td>NaN</td>\n",
              "      <td>29.000000</td>\n",
              "      <td>NaN</td>\n",
              "      <td>NaN</td>\n",
              "      <td>NaN</td>\n",
              "      <td>NaN</td>\n",
              "      <td>NaN</td>\n",
              "      <td>NaN</td>\n",
              "      <td>NaN</td>\n",
              "      <td>NaN</td>\n",
              "      <td>NaN</td>\n",
              "      <td>NaN</td>\n",
              "      <td>NaN</td>\n",
              "      <td>NaN</td>\n",
              "      <td>70.350000</td>\n",
              "      <td>1397.475000</td>\n",
              "      <td>NaN</td>\n",
              "    </tr>\n",
              "    <tr>\n",
              "      <th>75%</th>\n",
              "      <td>NaN</td>\n",
              "      <td>NaN</td>\n",
              "      <td>0.000000</td>\n",
              "      <td>NaN</td>\n",
              "      <td>NaN</td>\n",
              "      <td>55.000000</td>\n",
              "      <td>NaN</td>\n",
              "      <td>NaN</td>\n",
              "      <td>NaN</td>\n",
              "      <td>NaN</td>\n",
              "      <td>NaN</td>\n",
              "      <td>NaN</td>\n",
              "      <td>NaN</td>\n",
              "      <td>NaN</td>\n",
              "      <td>NaN</td>\n",
              "      <td>NaN</td>\n",
              "      <td>NaN</td>\n",
              "      <td>NaN</td>\n",
              "      <td>89.862500</td>\n",
              "      <td>3794.737500</td>\n",
              "      <td>NaN</td>\n",
              "    </tr>\n",
              "    <tr>\n",
              "      <th>max</th>\n",
              "      <td>NaN</td>\n",
              "      <td>NaN</td>\n",
              "      <td>1.000000</td>\n",
              "      <td>NaN</td>\n",
              "      <td>NaN</td>\n",
              "      <td>72.000000</td>\n",
              "      <td>NaN</td>\n",
              "      <td>NaN</td>\n",
              "      <td>NaN</td>\n",
              "      <td>NaN</td>\n",
              "      <td>NaN</td>\n",
              "      <td>NaN</td>\n",
              "      <td>NaN</td>\n",
              "      <td>NaN</td>\n",
              "      <td>NaN</td>\n",
              "      <td>NaN</td>\n",
              "      <td>NaN</td>\n",
              "      <td>NaN</td>\n",
              "      <td>118.750000</td>\n",
              "      <td>8684.800000</td>\n",
              "      <td>NaN</td>\n",
              "    </tr>\n",
              "  </tbody>\n",
              "</table>\n",
              "</div>"
            ],
            "text/plain": [
              "        customerID gender  SeniorCitizen  ... MonthlyCharges TotalCharges  Churn\n",
              "count         7032   7032    7032.000000  ...    7032.000000  7032.000000   7032\n",
              "unique        7032      2            NaN  ...            NaN          NaN      2\n",
              "top     9249-FXSCK   Male            NaN  ...            NaN          NaN     No\n",
              "freq             1   3549            NaN  ...            NaN          NaN   5163\n",
              "mean           NaN    NaN       0.162400  ...      64.798208  2283.300441    NaN\n",
              "std            NaN    NaN       0.368844  ...      30.085974  2266.771362    NaN\n",
              "min            NaN    NaN       0.000000  ...      18.250000    18.800000    NaN\n",
              "25%            NaN    NaN       0.000000  ...      35.587500   401.450000    NaN\n",
              "50%            NaN    NaN       0.000000  ...      70.350000  1397.475000    NaN\n",
              "75%            NaN    NaN       0.000000  ...      89.862500  3794.737500    NaN\n",
              "max            NaN    NaN       1.000000  ...     118.750000  8684.800000    NaN\n",
              "\n",
              "[11 rows x 21 columns]"
            ]
          },
          "metadata": {
            "tags": []
          },
          "execution_count": 64
        }
      ]
    },
    {
      "cell_type": "markdown",
      "metadata": {
        "id": "VcCfhDJY7-rr"
      },
      "source": [
        "We combine features into two lists so that we can analyze them jointly. "
      ]
    },
    {
      "cell_type": "code",
      "metadata": {
        "id": "V8SIEmrQ7-rs"
      },
      "source": [
        "categorical_features = [\n",
        "    \"gender\",\n",
        "    \"SeniorCitizen\",\n",
        "    \"Partner\",\n",
        "    \"Dependents\",\n",
        "    \"PhoneService\",\n",
        "    \"MultipleLines\",\n",
        "    \"InternetService\",\n",
        "    \"OnlineSecurity\",\n",
        "    \"OnlineBackup\",\n",
        "    \"DeviceProtection\",\n",
        "    \"TechSupport\",\n",
        "    \"StreamingTV\",\n",
        "    \"StreamingMovies\",\n",
        "    \"Contract\",\n",
        "    \"PaperlessBilling\",\n",
        "    \"PaymentMethod\",\n",
        "]\n",
        "numerical_features = [\"tenure\", \"MonthlyCharges\", \"TotalCharges\"]\n",
        "target = \"Churn\""
      ],
      "execution_count": 65,
      "outputs": []
    },
    {
      "cell_type": "markdown",
      "metadata": {
        "id": "2jSDcp647-rx"
      },
      "source": [
        "### Feature distribution"
      ]
    },
    {
      "cell_type": "markdown",
      "metadata": {
        "id": "nQGDgBF47-ry"
      },
      "source": [
        "We plot distributions for numerical and categorical features to check for outliers and compare feature distributions with target variable."
      ]
    },
    {
      "cell_type": "markdown",
      "metadata": {
        "id": "yHNZ_3hC7-rz"
      },
      "source": [
        "#### Numerical features distribution\n",
        "\n",
        "Numeric summarizing techniques (mean, standard deviation, etc.) don't show us spikes, shapes of distributions and it is hard to observe outliers with it. That is the reason we use histograms."
      ]
    },
    {
      "cell_type": "code",
      "metadata": {
        "id": "859ywiQ27-r0",
        "outputId": "547789f8-d770-476e-b4b3-4dce86d7ba9e",
        "colab": {
          "base_uri": "https://localhost:8080/",
          "height": 297
        }
      },
      "source": [
        "df[numerical_features].describe()"
      ],
      "execution_count": 66,
      "outputs": [
        {
          "output_type": "execute_result",
          "data": {
            "text/html": [
              "<div>\n",
              "<style scoped>\n",
              "    .dataframe tbody tr th:only-of-type {\n",
              "        vertical-align: middle;\n",
              "    }\n",
              "\n",
              "    .dataframe tbody tr th {\n",
              "        vertical-align: top;\n",
              "    }\n",
              "\n",
              "    .dataframe thead th {\n",
              "        text-align: right;\n",
              "    }\n",
              "</style>\n",
              "<table border=\"1\" class=\"dataframe\">\n",
              "  <thead>\n",
              "    <tr style=\"text-align: right;\">\n",
              "      <th></th>\n",
              "      <th>tenure</th>\n",
              "      <th>MonthlyCharges</th>\n",
              "      <th>TotalCharges</th>\n",
              "    </tr>\n",
              "  </thead>\n",
              "  <tbody>\n",
              "    <tr>\n",
              "      <th>count</th>\n",
              "      <td>7032.000000</td>\n",
              "      <td>7032.000000</td>\n",
              "      <td>7032.000000</td>\n",
              "    </tr>\n",
              "    <tr>\n",
              "      <th>mean</th>\n",
              "      <td>32.421786</td>\n",
              "      <td>64.798208</td>\n",
              "      <td>2283.300441</td>\n",
              "    </tr>\n",
              "    <tr>\n",
              "      <th>std</th>\n",
              "      <td>24.545260</td>\n",
              "      <td>30.085974</td>\n",
              "      <td>2266.771362</td>\n",
              "    </tr>\n",
              "    <tr>\n",
              "      <th>min</th>\n",
              "      <td>1.000000</td>\n",
              "      <td>18.250000</td>\n",
              "      <td>18.800000</td>\n",
              "    </tr>\n",
              "    <tr>\n",
              "      <th>25%</th>\n",
              "      <td>9.000000</td>\n",
              "      <td>35.587500</td>\n",
              "      <td>401.450000</td>\n",
              "    </tr>\n",
              "    <tr>\n",
              "      <th>50%</th>\n",
              "      <td>29.000000</td>\n",
              "      <td>70.350000</td>\n",
              "      <td>1397.475000</td>\n",
              "    </tr>\n",
              "    <tr>\n",
              "      <th>75%</th>\n",
              "      <td>55.000000</td>\n",
              "      <td>89.862500</td>\n",
              "      <td>3794.737500</td>\n",
              "    </tr>\n",
              "    <tr>\n",
              "      <th>max</th>\n",
              "      <td>72.000000</td>\n",
              "      <td>118.750000</td>\n",
              "      <td>8684.800000</td>\n",
              "    </tr>\n",
              "  </tbody>\n",
              "</table>\n",
              "</div>"
            ],
            "text/plain": [
              "            tenure  MonthlyCharges  TotalCharges\n",
              "count  7032.000000     7032.000000   7032.000000\n",
              "mean     32.421786       64.798208   2283.300441\n",
              "std      24.545260       30.085974   2266.771362\n",
              "min       1.000000       18.250000     18.800000\n",
              "25%       9.000000       35.587500    401.450000\n",
              "50%      29.000000       70.350000   1397.475000\n",
              "75%      55.000000       89.862500   3794.737500\n",
              "max      72.000000      118.750000   8684.800000"
            ]
          },
          "metadata": {
            "tags": []
          },
          "execution_count": 66
        }
      ]
    },
    {
      "cell_type": "markdown",
      "metadata": {
        "id": "9Oowbiuq7-r7"
      },
      "source": [
        "À primeira vista, não há outliers nos dados. Nenhum ponto de dados está desconectado da distribuição ou muito longe do valor médio. Para confirmar que precisaríamos calcular o intervalo interquartil ([IQR](https://www.purplemath.com/modules/boxwhisk3.htm)) e mostrar que os valores de cada característica numérica estão dentro do IQR 1,5 do primeiro e terceiro quartil.\n",
        "\n",
        "Poderíamos converter recursos numéricos em intervalos ordinais. Por exemplo, a posse é numérica, mas frequentemente não nos importamos com pequenas diferenças numéricas e, em vez disso, agrupamos a posse para clientes com mandato de curto, médio e longo prazo. Uma razão para convertê-lo seria reduzir o ruído, muitas vezes pequenas flutuações são apenas ruído."
      ]
    },
    {
      "cell_type": "code",
      "metadata": {
        "id": "h9kyO4DwC0DC",
        "outputId": "812dc883-46e8-49a8-ef8a-5a41f2fc3424",
        "colab": {
          "base_uri": "https://localhost:8080/",
          "height": 297
        }
      },
      "source": [
        "df[numerical_features].describe()"
      ],
      "execution_count": 67,
      "outputs": [
        {
          "output_type": "execute_result",
          "data": {
            "text/html": [
              "<div>\n",
              "<style scoped>\n",
              "    .dataframe tbody tr th:only-of-type {\n",
              "        vertical-align: middle;\n",
              "    }\n",
              "\n",
              "    .dataframe tbody tr th {\n",
              "        vertical-align: top;\n",
              "    }\n",
              "\n",
              "    .dataframe thead th {\n",
              "        text-align: right;\n",
              "    }\n",
              "</style>\n",
              "<table border=\"1\" class=\"dataframe\">\n",
              "  <thead>\n",
              "    <tr style=\"text-align: right;\">\n",
              "      <th></th>\n",
              "      <th>tenure</th>\n",
              "      <th>MonthlyCharges</th>\n",
              "      <th>TotalCharges</th>\n",
              "    </tr>\n",
              "  </thead>\n",
              "  <tbody>\n",
              "    <tr>\n",
              "      <th>count</th>\n",
              "      <td>7032.000000</td>\n",
              "      <td>7032.000000</td>\n",
              "      <td>7032.000000</td>\n",
              "    </tr>\n",
              "    <tr>\n",
              "      <th>mean</th>\n",
              "      <td>32.421786</td>\n",
              "      <td>64.798208</td>\n",
              "      <td>2283.300441</td>\n",
              "    </tr>\n",
              "    <tr>\n",
              "      <th>std</th>\n",
              "      <td>24.545260</td>\n",
              "      <td>30.085974</td>\n",
              "      <td>2266.771362</td>\n",
              "    </tr>\n",
              "    <tr>\n",
              "      <th>min</th>\n",
              "      <td>1.000000</td>\n",
              "      <td>18.250000</td>\n",
              "      <td>18.800000</td>\n",
              "    </tr>\n",
              "    <tr>\n",
              "      <th>25%</th>\n",
              "      <td>9.000000</td>\n",
              "      <td>35.587500</td>\n",
              "      <td>401.450000</td>\n",
              "    </tr>\n",
              "    <tr>\n",
              "      <th>50%</th>\n",
              "      <td>29.000000</td>\n",
              "      <td>70.350000</td>\n",
              "      <td>1397.475000</td>\n",
              "    </tr>\n",
              "    <tr>\n",
              "      <th>75%</th>\n",
              "      <td>55.000000</td>\n",
              "      <td>89.862500</td>\n",
              "      <td>3794.737500</td>\n",
              "    </tr>\n",
              "    <tr>\n",
              "      <th>max</th>\n",
              "      <td>72.000000</td>\n",
              "      <td>118.750000</td>\n",
              "      <td>8684.800000</td>\n",
              "    </tr>\n",
              "  </tbody>\n",
              "</table>\n",
              "</div>"
            ],
            "text/plain": [
              "            tenure  MonthlyCharges  TotalCharges\n",
              "count  7032.000000     7032.000000   7032.000000\n",
              "mean     32.421786       64.798208   2283.300441\n",
              "std      24.545260       30.085974   2266.771362\n",
              "min       1.000000       18.250000     18.800000\n",
              "25%       9.000000       35.587500    401.450000\n",
              "50%      29.000000       70.350000   1397.475000\n",
              "75%      55.000000       89.862500   3794.737500\n",
              "max      72.000000      118.750000   8684.800000"
            ]
          },
          "metadata": {
            "tags": []
          },
          "execution_count": 67
        }
      ]
    },
    {
      "cell_type": "code",
      "metadata": {
        "id": "ks2sRgnH7-r8",
        "outputId": "46c27dfa-8864-415e-f952-b3c637379a70",
        "colab": {
          "base_uri": "https://localhost:8080/",
          "height": 529
        }
      },
      "source": [
        "df[numerical_features].hist(bins=30, figsize=(10, 7))"
      ],
      "execution_count": 68,
      "outputs": [
        {
          "output_type": "execute_result",
          "data": {
            "text/plain": [
              "array([[<matplotlib.axes._subplots.AxesSubplot object at 0x7fe60eb9b278>,\n",
              "        <matplotlib.axes._subplots.AxesSubplot object at 0x7fe6108db7f0>],\n",
              "       [<matplotlib.axes._subplots.AxesSubplot object at 0x7fe6106436d8>,\n",
              "        <matplotlib.axes._subplots.AxesSubplot object at 0x7fe610794c88>]],\n",
              "      dtype=object)"
            ]
          },
          "metadata": {
            "tags": []
          },
          "execution_count": 68
        },
        {
          "output_type": "display_data",
          "data": {
            "image/png": "[encoded data removed]",
            "text/plain": [
              "<Figure size 720x504 with 4 Axes>"
            ]
          },
          "metadata": {
            "tags": [],
            "needs_background": "light"
          }
        }
      ]
    },
    {
      "cell_type": "markdown",
      "metadata": {
        "id": "Ws3Zilqd7-sC"
      },
      "source": [
        "Vemos as distribuições de recursos numéricos em relação à variável de destino. Podemos observar que quanto maiores os TotalCharges e a posse, menor é a probabilidade de rotatividade."
      ]
    },
    {
      "cell_type": "code",
      "metadata": {
        "id": "QvpUfzZKC-HS",
        "outputId": "3f5dc8f9-f1d2-45db-dcd0-80249d9c55e0",
        "colab": {
          "base_uri": "https://localhost:8080/",
          "height": 102
        }
      },
      "source": [
        "df[target].describe()"
      ],
      "execution_count": 69,
      "outputs": [
        {
          "output_type": "execute_result",
          "data": {
            "text/plain": [
              "count     7032\n",
              "unique       2\n",
              "top         No\n",
              "freq      5163\n",
              "Name: Churn, dtype: object"
            ]
          },
          "metadata": {
            "tags": []
          },
          "execution_count": 69
        }
      ]
    },
    {
      "cell_type": "code",
      "metadata": {
        "id": "iAkZG_jJ7-sE",
        "outputId": "0a73ab24-090a-45ee-b4c0-6152e00f475e",
        "colab": {
          "base_uri": "https://localhost:8080/",
          "height": 349
        }
      },
      "source": [
        "fig, ax = plt.subplots(1, 3, figsize=(14, 4))\n",
        "df[df.Churn == \"No\"][numerical_features].hist(bins=30, color=\"blue\", alpha=0.5, ax=ax)\n",
        "df[df.Churn == \"Yes\"][numerical_features].hist(bins=30, color=\"red\", alpha=0.5, ax=ax)"
      ],
      "execution_count": 70,
      "outputs": [
        {
          "output_type": "execute_result",
          "data": {
            "text/plain": [
              "array([<matplotlib.axes._subplots.AxesSubplot object at 0x7fe61059a080>,\n",
              "       <matplotlib.axes._subplots.AxesSubplot object at 0x7fe6107f5ac8>,\n",
              "       <matplotlib.axes._subplots.AxesSubplot object at 0x7fe6108cab70>],\n",
              "      dtype=object)"
            ]
          },
          "metadata": {
            "tags": []
          },
          "execution_count": 70
        },
        {
          "output_type": "display_data",
          "data": {
            "image/png": "[encoded data removed]",
            "text/plain": [
              "<Figure size 1008x288 with 3 Axes>"
            ]
          },
          "metadata": {
            "tags": [],
            "needs_background": "light"
          }
        }
      ]
    },
    {
      "cell_type": "markdown",
      "metadata": {
        "id": "J1tipyK_7-sK"
      },
      "source": [
        "#### Distribuição das características por categorias\n",
        "\n",
        "\n",
        "\n",
        "Para analisar características categóricas, usamos gráficos de barras. Observamos que a terceira idade e clientes sem serviço telefônico estão menos representados nos dados."
      ]
    },
    {
      "cell_type": "code",
      "metadata": {
        "id": "Hb0a3FiG7-sL",
        "outputId": "5f93a45f-c500-4ec4-a3cb-b23dcbda6ead",
        "colab": {
          "base_uri": "https://localhost:8080/",
          "height": 1000
        }
      },
      "source": [
        "ROWS, COLS = 4, 4\n",
        "fig, ax = plt.subplots(ROWS, COLS, figsize=(18, 18))\n",
        "row, col = 0, 0\n",
        "for i, categorical_feature in enumerate(categorical_features):\n",
        "    if col == COLS - 1:\n",
        "        row += 1\n",
        "    col = i % COLS\n",
        "    df[categorical_feature].value_counts().plot(kind='bar', ax=ax[row, col]).set_title(categorical_feature)"
      ],
      "execution_count": 71,
      "outputs": [
        {
          "output_type": "display_data",
          "data": {
            "image/png": "[encoded data removed]",
            "text/plain": [
              "<Figure size 1296x1296 with 16 Axes>"
            ]
          },
          "metadata": {
            "tags": [],
            "needs_background": "light"
          }
        }
      ]
    },
    {
      "cell_type": "markdown",
      "metadata": {
        "id": "PxSihup57-sP"
      },
      "source": [
        "A próxima etapa é examinar os recursos categóricos em relação à variável de destino. Fazemos isso apenas para o recurso de contrato. Os usuários que têm um contrato mensal são mais propensos a se desligar do que os usuários com contratos de longo prazo."
      ]
    },
    {
      "cell_type": "code",
      "metadata": {
        "id": "HyV4Xh7b7-sP",
        "outputId": "8eb34fea-1346-4d9e-a036-7cdcd7acba11",
        "colab": {
          "base_uri": "https://localhost:8080/",
          "height": 369
        }
      },
      "source": [
        "feature = 'Contract'\n",
        "fig, ax = plt.subplots(1, 2, figsize=(14, 4))\n",
        "df[df.Churn == \"No\"][feature].value_counts().plot(kind='bar', ax=ax[0]).set_title('not churned')\n",
        "df[df.Churn == \"Yes\"][feature].value_counts().plot(kind='bar', ax=ax[1]).set_title('churned')"
      ],
      "execution_count": 73,
      "outputs": [
        {
          "output_type": "execute_result",
          "data": {
            "text/plain": [
              "Text(0.5, 1.0, 'churned')"
            ]
          },
          "metadata": {
            "tags": []
          },
          "execution_count": 73
        },
        {
          "output_type": "display_data",
          "data": {
            "image/png": "[encoded data removed]",
            "text/plain": [
              "<Figure size 1008x288 with 2 Axes>"
            ]
          },
          "metadata": {
            "tags": [],
            "needs_background": "light"
          }
        }
      ]
    },
    {
      "cell_type": "markdown",
      "metadata": {
        "id": "i7R5CvQ-7-sT"
      },
      "source": [
        "#### Distribuição da variável alvo"
      ]
    },
    {
      "cell_type": "markdown",
      "metadata": {
        "id": "2yTfH1387-sY"
      },
      "source": [
        "A distribuição da variável target mostra que estamos lidando com um problema desequilibrado, pois há muitos mais usuários não rotativos como rotativos. O modelo alcançaria alta precisão, pois previa principalmente a classe majoritária - usuários que não se desligaram em nosso exemplo.\n",
        "\n",
        "Poucas coisas podemos fazer para minimizar a influência do conjunto de dados desequilibrado:\n",
        "- dados de reamostragem (https://imbalanced-learn.readthedocs.io/en/stable/),\n",
        "- coletar mais amostras,\n",
        "- use precisão e recall como métricas de precisão."
      ]
    },
    {
      "cell_type": "code",
      "metadata": {
        "id": "vDC7YSn17-sa",
        "outputId": "197c2ba6-5829-4041-8260-1414b64b55d0",
        "colab": {
          "base_uri": "https://localhost:8080/",
          "height": 355
        }
      },
      "source": [
        "print(df[target].value_counts())\n",
        "df[target].value_counts().plot(kind='bar').set_title('churned')"
      ],
      "execution_count": 75,
      "outputs": [
        {
          "output_type": "stream",
          "text": [
            "No     5163\n",
            "Yes    1869\n",
            "Name: Churn, dtype: int64\n"
          ],
          "name": "stdout"
        },
        {
          "output_type": "execute_result",
          "data": {
            "text/plain": [
              "Text(0.5, 1.0, 'churned')"
            ]
          },
          "metadata": {
            "tags": []
          },
          "execution_count": 75
        },
        {
          "output_type": "display_data",
          "data": {
            "image/png": "[encoded data removed]",
            "text/plain": [
              "<Figure size 432x288 with 1 Axes>"
            ]
          },
          "metadata": {
            "tags": [],
            "needs_background": "light"
          }
        }
      ]
    },
    {
      "cell_type": "markdown",
      "metadata": {
        "id": "PjSB06lu7-sf"
      },
      "source": [
        "## Recursos\n",
        "\n",
        "O conjunto de dados Telco já está agrupado por customerID, por isso é difícil adicionar novos recursos. Ao trabalhar na previsão de churn, geralmente obtemos um conjunto de dados que tem uma entrada por sessão do cliente (atividade do cliente em um determinado momento). Então, poderíamos adicionar recursos como:\n",
        "  - número de sessões antes de comprar algo,\n",
        "  - tempo médio por sessão,\n",
        "  - diferença de tempo entre as sessões (cliente frequente ou menos frequente),\n",
        "  - é um cliente apenas em um país.\n",
        "\n",
        "Às vezes, temos até dados de eventos do cliente, o que nos permite encontrar padrões de comportamento do cliente em relação ao resultado (rotatividade)."
      ]
    },
    {
      "cell_type": "markdown",
      "metadata": {
        "id": "FqQnw_co7-sf"
      },
      "source": [
        "### Codificação"
      ]
    },
    {
      "cell_type": "markdown",
      "metadata": {
        "id": "knHF2--w7-sg"
      },
      "source": [
        "Para preparar o conjunto de dados para modelagem de rotatividade, precisamos codificar recursos categóricos em números. Isso significa codificar \"Sim\", \"Não\" em 0 e 1 para que o algoritmo possa trabalhar com os dados. Este processo é chamado [onehot encoding](https://machinelearningmastery.com/why-one-hot-encode-data-in-machine-learning/)."
      ]
    },
    {
      "cell_type": "code",
      "metadata": {
        "id": "JBAIytDh7-sg",
        "outputId": "fc3f71a0-9022-48b8-ebf2-56ab10ec7704",
        "colab": {
          "base_uri": "https://localhost:8080/",
          "height": 326
        }
      },
      "source": [
        "from sklearn.preprocessing import LabelEncoder\n",
        "\n",
        "categorical_feature_names = []\n",
        "label_encoders = {}\n",
        "for categorical in categorical_features + [target]:\n",
        "    label_encoders[categorical] = LabelEncoder()\n",
        "    df[categorical] = label_encoders[categorical].fit_transform(df[categorical])\n",
        "    names = label_encoders[categorical].classes_.tolist()\n",
        "    print('Label encoder %s - values: %s' % (categorical, names))\n",
        "    if categorical == target:\n",
        "        continue\n",
        "    categorical_feature_names.extend([categorical + '_' + str(name) for name in names])"
      ],
      "execution_count": 76,
      "outputs": [
        {
          "output_type": "stream",
          "text": [
            "Label encoder gender - values: ['Female', 'Male']\n",
            "Label encoder SeniorCitizen - values: [0, 1]\n",
            "Label encoder Partner - values: ['No', 'Yes']\n",
            "Label encoder Dependents - values: ['No', 'Yes']\n",
            "Label encoder PhoneService - values: ['No', 'Yes']\n",
            "Label encoder MultipleLines - values: ['No', 'No phone service', 'Yes']\n",
            "Label encoder InternetService - values: ['DSL', 'Fiber optic', 'No']\n",
            "Label encoder OnlineSecurity - values: ['No', 'No internet service', 'Yes']\n",
            "Label encoder OnlineBackup - values: ['No', 'No internet service', 'Yes']\n",
            "Label encoder DeviceProtection - values: ['No', 'No internet service', 'Yes']\n",
            "Label encoder TechSupport - values: ['No', 'No internet service', 'Yes']\n",
            "Label encoder StreamingTV - values: ['No', 'No internet service', 'Yes']\n",
            "Label encoder StreamingMovies - values: ['No', 'No internet service', 'Yes']\n",
            "Label encoder Contract - values: ['Month-to-month', 'One year', 'Two year']\n",
            "Label encoder PaperlessBilling - values: ['No', 'Yes']\n",
            "Label encoder PaymentMethod - values: ['Bank transfer (automatic)', 'Credit card (automatic)', 'Electronic check', 'Mailed check']\n",
            "Label encoder Churn - values: ['No', 'Yes']\n"
          ],
          "name": "stdout"
        }
      ]
    },
    {
      "cell_type": "code",
      "metadata": {
        "id": "uYaRhplF7-sk",
        "outputId": "edb1aba3-8fb1-47a4-f571-433cbf133fb7",
        "colab": {
          "base_uri": "https://localhost:8080/",
          "height": 309
        }
      },
      "source": [
        "df.head()"
      ],
      "execution_count": 77,
      "outputs": [
        {
          "output_type": "execute_result",
          "data": {
            "text/html": [
              "<div>\n",
              "<style scoped>\n",
              "    .dataframe tbody tr th:only-of-type {\n",
              "        vertical-align: middle;\n",
              "    }\n",
              "\n",
              "    .dataframe tbody tr th {\n",
              "        vertical-align: top;\n",
              "    }\n",
              "\n",
              "    .dataframe thead th {\n",
              "        text-align: right;\n",
              "    }\n",
              "</style>\n",
              "<table border=\"1\" class=\"dataframe\">\n",
              "  <thead>\n",
              "    <tr style=\"text-align: right;\">\n",
              "      <th></th>\n",
              "      <th>customerID</th>\n",
              "      <th>gender</th>\n",
              "      <th>SeniorCitizen</th>\n",
              "      <th>Partner</th>\n",
              "      <th>Dependents</th>\n",
              "      <th>tenure</th>\n",
              "      <th>PhoneService</th>\n",
              "      <th>MultipleLines</th>\n",
              "      <th>InternetService</th>\n",
              "      <th>OnlineSecurity</th>\n",
              "      <th>OnlineBackup</th>\n",
              "      <th>DeviceProtection</th>\n",
              "      <th>TechSupport</th>\n",
              "      <th>StreamingTV</th>\n",
              "      <th>StreamingMovies</th>\n",
              "      <th>Contract</th>\n",
              "      <th>PaperlessBilling</th>\n",
              "      <th>PaymentMethod</th>\n",
              "      <th>MonthlyCharges</th>\n",
              "      <th>TotalCharges</th>\n",
              "      <th>Churn</th>\n",
              "    </tr>\n",
              "  </thead>\n",
              "  <tbody>\n",
              "    <tr>\n",
              "      <th>0</th>\n",
              "      <td>7590-VHVEG</td>\n",
              "      <td>0</td>\n",
              "      <td>0</td>\n",
              "      <td>1</td>\n",
              "      <td>0</td>\n",
              "      <td>1</td>\n",
              "      <td>0</td>\n",
              "      <td>1</td>\n",
              "      <td>0</td>\n",
              "      <td>0</td>\n",
              "      <td>2</td>\n",
              "      <td>0</td>\n",
              "      <td>0</td>\n",
              "      <td>0</td>\n",
              "      <td>0</td>\n",
              "      <td>0</td>\n",
              "      <td>1</td>\n",
              "      <td>2</td>\n",
              "      <td>29.85</td>\n",
              "      <td>29.85</td>\n",
              "      <td>0</td>\n",
              "    </tr>\n",
              "    <tr>\n",
              "      <th>1</th>\n",
              "      <td>5575-GNVDE</td>\n",
              "      <td>1</td>\n",
              "      <td>0</td>\n",
              "      <td>0</td>\n",
              "      <td>0</td>\n",
              "      <td>34</td>\n",
              "      <td>1</td>\n",
              "      <td>0</td>\n",
              "      <td>0</td>\n",
              "      <td>2</td>\n",
              "      <td>0</td>\n",
              "      <td>2</td>\n",
              "      <td>0</td>\n",
              "      <td>0</td>\n",
              "      <td>0</td>\n",
              "      <td>1</td>\n",
              "      <td>0</td>\n",
              "      <td>3</td>\n",
              "      <td>56.95</td>\n",
              "      <td>1889.50</td>\n",
              "      <td>0</td>\n",
              "    </tr>\n",
              "    <tr>\n",
              "      <th>2</th>\n",
              "      <td>3668-QPYBK</td>\n",
              "      <td>1</td>\n",
              "      <td>0</td>\n",
              "      <td>0</td>\n",
              "      <td>0</td>\n",
              "      <td>2</td>\n",
              "      <td>1</td>\n",
              "      <td>0</td>\n",
              "      <td>0</td>\n",
              "      <td>2</td>\n",
              "      <td>2</td>\n",
              "      <td>0</td>\n",
              "      <td>0</td>\n",
              "      <td>0</td>\n",
              "      <td>0</td>\n",
              "      <td>0</td>\n",
              "      <td>1</td>\n",
              "      <td>3</td>\n",
              "      <td>53.85</td>\n",
              "      <td>108.15</td>\n",
              "      <td>1</td>\n",
              "    </tr>\n",
              "    <tr>\n",
              "      <th>3</th>\n",
              "      <td>7795-CFOCW</td>\n",
              "      <td>1</td>\n",
              "      <td>0</td>\n",
              "      <td>0</td>\n",
              "      <td>0</td>\n",
              "      <td>45</td>\n",
              "      <td>0</td>\n",
              "      <td>1</td>\n",
              "      <td>0</td>\n",
              "      <td>2</td>\n",
              "      <td>0</td>\n",
              "      <td>2</td>\n",
              "      <td>2</td>\n",
              "      <td>0</td>\n",
              "      <td>0</td>\n",
              "      <td>1</td>\n",
              "      <td>0</td>\n",
              "      <td>0</td>\n",
              "      <td>42.30</td>\n",
              "      <td>1840.75</td>\n",
              "      <td>0</td>\n",
              "    </tr>\n",
              "    <tr>\n",
              "      <th>4</th>\n",
              "      <td>9237-HQITU</td>\n",
              "      <td>0</td>\n",
              "      <td>0</td>\n",
              "      <td>0</td>\n",
              "      <td>0</td>\n",
              "      <td>2</td>\n",
              "      <td>1</td>\n",
              "      <td>0</td>\n",
              "      <td>1</td>\n",
              "      <td>0</td>\n",
              "      <td>0</td>\n",
              "      <td>0</td>\n",
              "      <td>0</td>\n",
              "      <td>0</td>\n",
              "      <td>0</td>\n",
              "      <td>0</td>\n",
              "      <td>1</td>\n",
              "      <td>2</td>\n",
              "      <td>70.70</td>\n",
              "      <td>151.65</td>\n",
              "      <td>1</td>\n",
              "    </tr>\n",
              "  </tbody>\n",
              "</table>\n",
              "</div>"
            ],
            "text/plain": [
              "   customerID  gender  SeniorCitizen  ...  MonthlyCharges  TotalCharges  Churn\n",
              "0  7590-VHVEG       0              0  ...           29.85         29.85      0\n",
              "1  5575-GNVDE       1              0  ...           56.95       1889.50      0\n",
              "2  3668-QPYBK       1              0  ...           53.85        108.15      1\n",
              "3  7795-CFOCW       1              0  ...           42.30       1840.75      0\n",
              "4  9237-HQITU       0              0  ...           70.70        151.65      1\n",
              "\n",
              "[5 rows x 21 columns]"
            ]
          },
          "metadata": {
            "tags": []
          },
          "execution_count": 77
        }
      ]
    },
    {
      "cell_type": "markdown",
      "metadata": {
        "id": "HQudTdBl7-sn"
      },
      "source": [
        "## O Classifier\n",
        "\n",
        "Usamos sklearn, uma biblioteca de aprendizado de máquina em Python, para criar um classificador.\n",
        "A maneira sklearn é usar pipelines que definem o processamento de recursos e o classificador. Em nosso exemplo, o pipeline pega um conjunto de dados na entrada, pré-processa recursos e treina o classificador.\n",
        "Quando treinado, ele recebe a mesma entrada e retorna previsões na saída.\n",
        "\n",
        "No pipeline, processamos separadamente recursos categóricos e numéricos. Codificamos recursos categóricos e escalamos recursos numéricos removendo a média e escalonando-os para a variância unitária.\n",
        "Escolhemos um modelo de árvore de decisão devido à sua interpretabilidade e definimos a profundidade máxima como 3 (arbitrariamente)."
      ]
    },
    {
      "cell_type": "code",
      "metadata": {
        "id": "szJQTvLt7-so"
      },
      "source": [
        "from sklearn.pipeline import FeatureUnion, Pipeline\n",
        "from sklearn.preprocessing import StandardScaler\n",
        "from sklearn.preprocessing import OneHotEncoder\n",
        "from sklearn import tree\n",
        "from sklearn.base import BaseEstimator, TransformerMixin\n",
        "from sklearn.linear_model import LogisticRegression\n",
        "from sklearn.preprocessing import StandardScaler\n",
        "\n",
        "\n",
        "class ItemSelector(BaseEstimator, TransformerMixin):\n",
        "    def __init__(self, key):\n",
        "        self.key = key\n",
        "\n",
        "    def fit(self, x, y=None):\n",
        "        return self\n",
        "\n",
        "    def transform(self, df):\n",
        "        return df[self.key]"
      ],
      "execution_count": 78,
      "outputs": []
    },
    {
      "cell_type": "code",
      "metadata": {
        "id": "wZYo_jiS7-sr"
      },
      "source": [
        "pipeline = Pipeline(\n",
        "    [\n",
        "        (\n",
        "            \"union\",\n",
        "            FeatureUnion(\n",
        "                transformer_list=[\n",
        "                    (\n",
        "                        \"categorical_features\",\n",
        "                        Pipeline(\n",
        "                            [\n",
        "                                (\"selector\", ItemSelector(key=categorical_features)),\n",
        "                                (\"onehot\", OneHotEncoder()),\n",
        "                            ]\n",
        "                        ),\n",
        "                    )\n",
        "                ]\n",
        "                + [\n",
        "                    (\n",
        "                        \"numerical_features\",\n",
        "                        Pipeline(\n",
        "                            [\n",
        "                                (\"selector\", ItemSelector(key=numerical_features)),\n",
        "                                (\"scalar\", StandardScaler()),\n",
        "                            ]\n",
        "                        ),\n",
        "                    )\n",
        "                ]\n",
        "            ),\n",
        "        ),\n",
        "        (\"classifier\", tree.DecisionTreeClassifier(max_depth=3, random_state=42)),\n",
        "    ]\n",
        ")"
      ],
      "execution_count": 79,
      "outputs": []
    },
    {
      "cell_type": "markdown",
      "metadata": {
        "id": "vM7f7JJO7-sv"
      },
      "source": [
        "### Treinando o modelo"
      ]
    },
    {
      "cell_type": "markdown",
      "metadata": {
        "id": "boOrjcGL7-sv"
      },
      "source": [
        "Dividimos o conjunto de dados para treinar (75% das amostras) e testar (25% das amostras).\n",
        "Treinamos (ajustamos) o pipeline e fazemos previsões."
      ]
    },
    {
      "cell_type": "code",
      "metadata": {
        "id": "1FkqQR5C7-sx"
      },
      "source": [
        "from sklearn.model_selection import train_test_split\n",
        "\n",
        "df_train, df_test = train_test_split(df, test_size=0.25, random_state=42)\n",
        "\n",
        "pipeline.fit(df_train, df_train[target])\n",
        "pred = pipeline.predict(df_test)"
      ],
      "execution_count": 81,
      "outputs": []
    },
    {
      "cell_type": "markdown",
      "metadata": {
        "id": "tyjDWDPs7-s5"
      },
      "source": [
        "### Testando o modelo"
      ]
    },
    {
      "cell_type": "markdown",
      "metadata": {
        "id": "m9HeSCUI7-s5"
      },
      "source": [
        "Com a classificação_report, calculamos a precisão e a recuperação com os valores reais e previstos.\n",
        "Para a classe 1 (usuários agitados), o modelo atinge precisão de 0,67 e recall de 0,37.\n",
        "A precisão nos diz quantos usuários rotativos nosso classificador previu corretamente. Por outro lado, lembre-se de nos dizer quantos usuários rotativos ele perdeu. Em termos leigos, o classificador não é muito preciso para usuários rotativos."
      ]
    },
    {
      "cell_type": "code",
      "metadata": {
        "id": "9z-rddUa7-s6",
        "outputId": "91ab0654-2514-46a6-ec8a-d9ae6f2b89b2",
        "colab": {
          "base_uri": "https://localhost:8080/",
          "height": 170
        }
      },
      "source": [
        "from sklearn.metrics import classification_report\n",
        "\n",
        "print(classification_report(df_test[target], pred))"
      ],
      "execution_count": 82,
      "outputs": [
        {
          "output_type": "stream",
          "text": [
            "              precision    recall  f1-score   support\n",
            "\n",
            "           0       0.81      0.94      0.87      1300\n",
            "           1       0.67      0.37      0.48       458\n",
            "\n",
            "    accuracy                           0.79      1758\n",
            "   macro avg       0.74      0.65      0.67      1758\n",
            "weighted avg       0.77      0.79      0.77      1758\n",
            "\n"
          ],
          "name": "stdout"
        }
      ]
    },
    {
      "cell_type": "markdown",
      "metadata": {
        "id": "kPVD5lcq7-s_"
      },
      "source": [
        "## Interpretabilidade do modelo\n",
        "\n",
        "O modelo de árvore de decisão usa os recursos de Contrato, MensalidadeCharges, InternetService, TotalCharges e posse para tomar uma decisão se um cliente se desligará ou não. Esses recursos separam bem os clientes cancelados de outros com base nos critérios de divisão na árvore de decisão.\n",
        "\n",
        "Cada amostra do cliente atravessa a árvore e o nó final fornece a previsão.\n",
        "Por exemplo, se Contract_Month-to-month for:\n",
        "  - igual a 0, continue percorrendo a árvore com ramo verdadeiro,\n",
        "  - igual a 1, continue atravessando a árvore com galho falso,\n",
        "  - não definido, ele produz a classe 0.\n",
        " \n",
        "Essa é uma ótima abordagem para ver como o modelo está tomando uma decisão ou se algum recurso inserido em nosso modelo que não deveria estar lá."
      ]
    },
    {
      "cell_type": "code",
      "metadata": {
        "id": "EWqLd74r7-s_",
        "outputId": "56028786-f458-4d8a-d417-7a511466761f",
        "colab": {
          "base_uri": "https://localhost:8080/",
          "height": 618
        }
      },
      "source": [
        "dot_data = tree.export_graphviz(pipeline.named_steps['classifier'], out_file=None, \n",
        "                         feature_names = categorical_feature_names + numerical_features,\n",
        "                         class_names=[str(el) for el in pipeline.named_steps.classifier.classes_],  \n",
        "                         filled=True, rounded=True,  \n",
        "                         special_characters=True)  \n",
        "graph = graphviz.Source(dot_data) \n",
        "graph"
      ],
      "execution_count": 84,
      "outputs": [
        {
          "output_type": "execute_result",
          "data": {
            "text/plain": [
              "<graphviz.files.Source at 0x7fe60b1b2c88>"
            ],
            "image/svg+xml": "<?xml version=\"1.0\" encoding=\"UTF-8\" standalone=\"no\"?>\n<!DOCTYPE svg PUBLIC \"-//W3C//DTD SVG 1.1//EN\"\n \"http://www.w3.org/Graphics/SVG/1.1/DTD/svg11.dtd\">\n<!-- Generated by graphviz version 2.40.1 (20161225.0304)\n -->\n<!-- Title: Tree Pages: 1 -->\n<svg width=\"1158pt\" height=\"433pt\"\n viewBox=\"0.00 0.00 1158.00 433.00\" xmlns=\"http://www.w3.org/2000/svg\" xmlns:xlink=\"http://www.w3.org/1999/xlink\">\n<g id=\"graph0\" class=\"graph\" transform=\"scale(1 1) rotate(0) translate(4 429)\">\n<title>Tree</title>\n<polygon fill=\"#ffffff\" stroke=\"transparent\" points=\"-4,4 -4,-429 1154,-429 1154,4 -4,4\"/>\n<!-- 0 -->\n<g id=\"node1\" class=\"node\">\n<title>0</title>\n<path fill=\"#eeaf81\" stroke=\"#000000\" d=\"M620.5,-425C620.5,-425 427.5,-425 427.5,-425 421.5,-425 415.5,-419 415.5,-413 415.5,-413 415.5,-354 415.5,-354 415.5,-348 421.5,-342 427.5,-342 427.5,-342 620.5,-342 620.5,-342 626.5,-342 632.5,-348 632.5,-354 632.5,-354 632.5,-413 632.5,-413 632.5,-419 626.5,-425 620.5,-425\"/>\n<text text-anchor=\"start\" x=\"423.5\" y=\"-409.8\" font-family=\"Helvetica,sans-Serif\" font-size=\"14.00\" fill=\"#000000\">Contract_Month&#45;to&#45;month ≤ 0.5</text>\n<text text-anchor=\"start\" x=\"486\" y=\"-394.8\" font-family=\"Helvetica,sans-Serif\" font-size=\"14.00\" fill=\"#000000\">gini = 0.392</text>\n<text text-anchor=\"start\" x=\"472\" y=\"-379.8\" font-family=\"Helvetica,sans-Serif\" font-size=\"14.00\" fill=\"#000000\">samples = 5274</text>\n<text text-anchor=\"start\" x=\"457.5\" y=\"-364.8\" font-family=\"Helvetica,sans-Serif\" font-size=\"14.00\" fill=\"#000000\">value = [3863, 1411]</text>\n<text text-anchor=\"start\" x=\"495\" y=\"-349.8\" font-family=\"Helvetica,sans-Serif\" font-size=\"14.00\" fill=\"#000000\">class = 0</text>\n</g>\n<!-- 1 -->\n<g id=\"node2\" class=\"node\">\n<title>1</title>\n<path fill=\"#e78a47\" stroke=\"#000000\" d=\"M476.5,-306C476.5,-306 325.5,-306 325.5,-306 319.5,-306 313.5,-300 313.5,-294 313.5,-294 313.5,-235 313.5,-235 313.5,-229 319.5,-223 325.5,-223 325.5,-223 476.5,-223 476.5,-223 482.5,-223 488.5,-229 488.5,-235 488.5,-235 488.5,-294 488.5,-294 488.5,-300 482.5,-306 476.5,-306\"/>\n<text text-anchor=\"start\" x=\"321.5\" y=\"-290.8\" font-family=\"Helvetica,sans-Serif\" font-size=\"14.00\" fill=\"#000000\">MonthlyCharges ≤ 0.962</text>\n<text text-anchor=\"start\" x=\"363\" y=\"-275.8\" font-family=\"Helvetica,sans-Serif\" font-size=\"14.00\" fill=\"#000000\">gini = 0.122</text>\n<text text-anchor=\"start\" x=\"349\" y=\"-260.8\" font-family=\"Helvetica,sans-Serif\" font-size=\"14.00\" fill=\"#000000\">samples = 2376</text>\n<text text-anchor=\"start\" x=\"339\" y=\"-245.8\" font-family=\"Helvetica,sans-Serif\" font-size=\"14.00\" fill=\"#000000\">value = [2221, 155]</text>\n<text text-anchor=\"start\" x=\"372\" y=\"-230.8\" font-family=\"Helvetica,sans-Serif\" font-size=\"14.00\" fill=\"#000000\">class = 0</text>\n</g>\n<!-- 0&#45;&gt;1 -->\n<g id=\"edge1\" class=\"edge\">\n<title>0&#45;&gt;1</title>\n<path fill=\"none\" stroke=\"#000000\" d=\"M480.9806,-341.8796C471.4853,-332.6931 461.3422,-322.8798 451.5785,-313.4336\"/>\n<polygon fill=\"#000000\" stroke=\"#000000\" points=\"453.8237,-310.7359 444.203,-306.2981 448.9564,-315.7668 453.8237,-310.7359\"/>\n<text text-anchor=\"middle\" x=\"444.6162\" y=\"-327.5947\" font-family=\"Helvetica,sans-Serif\" font-size=\"14.00\" fill=\"#000000\">True</text>\n</g>\n<!-- 8 -->\n<g id=\"node9\" class=\"node\">\n<title>8</title>\n<path fill=\"#f9e1d0\" stroke=\"#000000\" d=\"M809.5,-306C809.5,-306 608.5,-306 608.5,-306 602.5,-306 596.5,-300 596.5,-294 596.5,-294 596.5,-235 596.5,-235 596.5,-229 602.5,-223 608.5,-223 608.5,-223 809.5,-223 809.5,-223 815.5,-223 821.5,-229 821.5,-235 821.5,-235 821.5,-294 821.5,-294 821.5,-300 815.5,-306 809.5,-306\"/>\n<text text-anchor=\"start\" x=\"604.5\" y=\"-290.8\" font-family=\"Helvetica,sans-Serif\" font-size=\"14.00\" fill=\"#000000\">InternetService_Fiber optic ≤ 0.5</text>\n<text text-anchor=\"start\" x=\"671\" y=\"-275.8\" font-family=\"Helvetica,sans-Serif\" font-size=\"14.00\" fill=\"#000000\">gini = 0.491</text>\n<text text-anchor=\"start\" x=\"657\" y=\"-260.8\" font-family=\"Helvetica,sans-Serif\" font-size=\"14.00\" fill=\"#000000\">samples = 2898</text>\n<text text-anchor=\"start\" x=\"642.5\" y=\"-245.8\" font-family=\"Helvetica,sans-Serif\" font-size=\"14.00\" fill=\"#000000\">value = [1642, 1256]</text>\n<text text-anchor=\"start\" x=\"680\" y=\"-230.8\" font-family=\"Helvetica,sans-Serif\" font-size=\"14.00\" fill=\"#000000\">class = 0</text>\n</g>\n<!-- 0&#45;&gt;8 -->\n<g id=\"edge8\" class=\"edge\">\n<title>0&#45;&gt;8</title>\n<path fill=\"none\" stroke=\"#000000\" d=\"M588.704,-341.8796C603.9135,-332.0962 620.2282,-321.6019 635.7818,-311.5971\"/>\n<polygon fill=\"#000000\" stroke=\"#000000\" points=\"637.8157,-314.4505 644.3325,-306.0969 634.0287,-308.5632 637.8157,-314.4505\"/>\n<text text-anchor=\"middle\" x=\"639.0284\" y=\"-326.8278\" font-family=\"Helvetica,sans-Serif\" font-size=\"14.00\" fill=\"#000000\">False</text>\n</g>\n<!-- 2 -->\n<g id=\"node3\" class=\"node\">\n<title>2</title>\n<path fill=\"#e68640\" stroke=\"#000000\" d=\"M279.5,-187C279.5,-187 128.5,-187 128.5,-187 122.5,-187 116.5,-181 116.5,-175 116.5,-175 116.5,-116 116.5,-116 116.5,-110 122.5,-104 128.5,-104 128.5,-104 279.5,-104 279.5,-104 285.5,-104 291.5,-110 291.5,-116 291.5,-116 291.5,-175 291.5,-175 291.5,-181 285.5,-187 279.5,-187\"/>\n<text text-anchor=\"start\" x=\"124.5\" y=\"-171.8\" font-family=\"Helvetica,sans-Serif\" font-size=\"14.00\" fill=\"#000000\">Contract_One year ≤ 0.5</text>\n<text text-anchor=\"start\" x=\"166\" y=\"-156.8\" font-family=\"Helvetica,sans-Serif\" font-size=\"14.00\" fill=\"#000000\">gini = 0.068</text>\n<text text-anchor=\"start\" x=\"152\" y=\"-141.8\" font-family=\"Helvetica,sans-Serif\" font-size=\"14.00\" fill=\"#000000\">samples = 1787</text>\n<text text-anchor=\"start\" x=\"146\" y=\"-126.8\" font-family=\"Helvetica,sans-Serif\" font-size=\"14.00\" fill=\"#000000\">value = [1724, 63]</text>\n<text text-anchor=\"start\" x=\"175\" y=\"-111.8\" font-family=\"Helvetica,sans-Serif\" font-size=\"14.00\" fill=\"#000000\">class = 0</text>\n</g>\n<!-- 1&#45;&gt;2 -->\n<g id=\"edge2\" class=\"edge\">\n<title>1&#45;&gt;2</title>\n<path fill=\"none\" stroke=\"#000000\" d=\"M332.099,-222.8796C315.753,-213.0056 298.2081,-202.4075 281.5076,-192.3193\"/>\n<polygon fill=\"#000000\" stroke=\"#000000\" points=\"283.2314,-189.2716 272.8621,-187.0969 279.612,-195.2633 283.2314,-189.2716\"/>\n</g>\n<!-- 5 -->\n<g id=\"node6\" class=\"node\">\n<title>5</title>\n<path fill=\"#ea985e\" stroke=\"#000000\" d=\"M466.5,-187C466.5,-187 335.5,-187 335.5,-187 329.5,-187 323.5,-181 323.5,-175 323.5,-175 323.5,-116 323.5,-116 323.5,-110 329.5,-104 335.5,-104 335.5,-104 466.5,-104 466.5,-104 472.5,-104 478.5,-110 478.5,-116 478.5,-116 478.5,-175 478.5,-175 478.5,-181 472.5,-187 466.5,-187\"/>\n<text text-anchor=\"start\" x=\"331.5\" y=\"-171.8\" font-family=\"Helvetica,sans-Serif\" font-size=\"14.00\" fill=\"#000000\">TotalCharges ≤ 1.908</text>\n<text text-anchor=\"start\" x=\"363\" y=\"-156.8\" font-family=\"Helvetica,sans-Serif\" font-size=\"14.00\" fill=\"#000000\">gini = 0.264</text>\n<text text-anchor=\"start\" x=\"353\" y=\"-141.8\" font-family=\"Helvetica,sans-Serif\" font-size=\"14.00\" fill=\"#000000\">samples = 589</text>\n<text text-anchor=\"start\" x=\"347\" y=\"-126.8\" font-family=\"Helvetica,sans-Serif\" font-size=\"14.00\" fill=\"#000000\">value = [497, 92]</text>\n<text text-anchor=\"start\" x=\"372\" y=\"-111.8\" font-family=\"Helvetica,sans-Serif\" font-size=\"14.00\" fill=\"#000000\">class = 0</text>\n</g>\n<!-- 1&#45;&gt;5 -->\n<g id=\"edge5\" class=\"edge\">\n<title>1&#45;&gt;5</title>\n<path fill=\"none\" stroke=\"#000000\" d=\"M401,-222.8796C401,-214.6838 401,-205.9891 401,-197.5013\"/>\n<polygon fill=\"#000000\" stroke=\"#000000\" points=\"404.5001,-197.298 401,-187.2981 397.5001,-197.2981 404.5001,-197.298\"/>\n</g>\n<!-- 3 -->\n<g id=\"node4\" class=\"node\">\n<title>3</title>\n<path fill=\"#e5823b\" stroke=\"#000000\" d=\"M112,-68C112,-68 12,-68 12,-68 6,-68 0,-62 0,-56 0,-56 0,-12 0,-12 0,-6 6,0 12,0 12,0 112,0 112,0 118,0 124,-6 124,-12 124,-12 124,-56 124,-56 124,-62 118,-68 112,-68\"/>\n<text text-anchor=\"start\" x=\"24\" y=\"-52.8\" font-family=\"Helvetica,sans-Serif\" font-size=\"14.00\" fill=\"#000000\">gini = 0.022</text>\n<text text-anchor=\"start\" x=\"14\" y=\"-37.8\" font-family=\"Helvetica,sans-Serif\" font-size=\"14.00\" fill=\"#000000\">samples = 978</text>\n<text text-anchor=\"start\" x=\"8\" y=\"-22.8\" font-family=\"Helvetica,sans-Serif\" font-size=\"14.00\" fill=\"#000000\">value = [967, 11]</text>\n<text text-anchor=\"start\" x=\"33\" y=\"-7.8\" font-family=\"Helvetica,sans-Serif\" font-size=\"14.00\" fill=\"#000000\">class = 0</text>\n</g>\n<!-- 2&#45;&gt;3 -->\n<g id=\"edge3\" class=\"edge\">\n<title>2&#45;&gt;3</title>\n<path fill=\"none\" stroke=\"#000000\" d=\"M151.1244,-103.9815C138.8345,-94.3313 125.7681,-84.0714 113.5368,-74.4673\"/>\n<polygon fill=\"#000000\" stroke=\"#000000\" points=\"115.6629,-71.6867 105.6362,-68.2637 111.3398,-77.1923 115.6629,-71.6867\"/>\n</g>\n<!-- 4 -->\n<g id=\"node5\" class=\"node\">\n<title>4</title>\n<path fill=\"#e78a47\" stroke=\"#000000\" d=\"M254,-68C254,-68 154,-68 154,-68 148,-68 142,-62 142,-56 142,-56 142,-12 142,-12 142,-6 148,0 154,0 154,0 254,0 254,0 260,0 266,-6 266,-12 266,-12 266,-56 266,-56 266,-62 260,-68 254,-68\"/>\n<text text-anchor=\"start\" x=\"170.5\" y=\"-52.8\" font-family=\"Helvetica,sans-Serif\" font-size=\"14.00\" fill=\"#000000\">gini = 0.12</text>\n<text text-anchor=\"start\" x=\"156\" y=\"-37.8\" font-family=\"Helvetica,sans-Serif\" font-size=\"14.00\" fill=\"#000000\">samples = 809</text>\n<text text-anchor=\"start\" x=\"150\" y=\"-22.8\" font-family=\"Helvetica,sans-Serif\" font-size=\"14.00\" fill=\"#000000\">value = [757, 52]</text>\n<text text-anchor=\"start\" x=\"175\" y=\"-7.8\" font-family=\"Helvetica,sans-Serif\" font-size=\"14.00\" fill=\"#000000\">class = 0</text>\n</g>\n<!-- 2&#45;&gt;4 -->\n<g id=\"edge4\" class=\"edge\">\n<title>2&#45;&gt;4</title>\n<path fill=\"none\" stroke=\"#000000\" d=\"M204,-103.9815C204,-95.618 204,-86.7965 204,-78.3409\"/>\n<polygon fill=\"#000000\" stroke=\"#000000\" points=\"207.5001,-78.2636 204,-68.2637 200.5001,-78.2637 207.5001,-78.2636\"/>\n</g>\n<!-- 6 -->\n<g id=\"node7\" class=\"node\">\n<title>6</title>\n<path fill=\"#eda775\" stroke=\"#000000\" d=\"M396,-68C396,-68 296,-68 296,-68 290,-68 284,-62 284,-56 284,-56 284,-12 284,-12 284,-6 290,0 296,0 296,0 396,0 396,0 402,0 408,-6 408,-12 408,-12 408,-56 408,-56 408,-62 402,-68 396,-68\"/>\n<text text-anchor=\"start\" x=\"308\" y=\"-52.8\" font-family=\"Helvetica,sans-Serif\" font-size=\"14.00\" fill=\"#000000\">gini = 0.357</text>\n<text text-anchor=\"start\" x=\"298\" y=\"-37.8\" font-family=\"Helvetica,sans-Serif\" font-size=\"14.00\" fill=\"#000000\">samples = 279</text>\n<text text-anchor=\"start\" x=\"292\" y=\"-22.8\" font-family=\"Helvetica,sans-Serif\" font-size=\"14.00\" fill=\"#000000\">value = [214, 65]</text>\n<text text-anchor=\"start\" x=\"317\" y=\"-7.8\" font-family=\"Helvetica,sans-Serif\" font-size=\"14.00\" fill=\"#000000\">class = 0</text>\n</g>\n<!-- 5&#45;&gt;6 -->\n<g id=\"edge6\" class=\"edge\">\n<title>5&#45;&gt;6</title>\n<path fill=\"none\" stroke=\"#000000\" d=\"M380.52,-103.9815C376.2585,-95.3423 371.756,-86.2144 367.4603,-77.5059\"/>\n<polygon fill=\"#000000\" stroke=\"#000000\" points=\"370.4641,-75.6836 362.9014,-68.2637 364.1863,-78.7803 370.4641,-75.6836\"/>\n</g>\n<!-- 7 -->\n<g id=\"node8\" class=\"node\">\n<title>7</title>\n<path fill=\"#e78d4c\" stroke=\"#000000\" d=\"M538,-68C538,-68 438,-68 438,-68 432,-68 426,-62 426,-56 426,-56 426,-12 426,-12 426,-6 432,0 438,0 438,0 538,0 538,0 544,0 550,-6 550,-12 550,-12 550,-56 550,-56 550,-62 544,-68 538,-68\"/>\n<text text-anchor=\"start\" x=\"450\" y=\"-52.8\" font-family=\"Helvetica,sans-Serif\" font-size=\"14.00\" fill=\"#000000\">gini = 0.159</text>\n<text text-anchor=\"start\" x=\"440\" y=\"-37.8\" font-family=\"Helvetica,sans-Serif\" font-size=\"14.00\" fill=\"#000000\">samples = 310</text>\n<text text-anchor=\"start\" x=\"434\" y=\"-22.8\" font-family=\"Helvetica,sans-Serif\" font-size=\"14.00\" fill=\"#000000\">value = [283, 27]</text>\n<text text-anchor=\"start\" x=\"459\" y=\"-7.8\" font-family=\"Helvetica,sans-Serif\" font-size=\"14.00\" fill=\"#000000\">class = 0</text>\n</g>\n<!-- 5&#45;&gt;7 -->\n<g id=\"edge7\" class=\"edge\">\n<title>5&#45;&gt;7</title>\n<path fill=\"none\" stroke=\"#000000\" d=\"M433.3956,-103.9815C440.4234,-94.9747 447.8655,-85.4367 454.9193,-76.3965\"/>\n<polygon fill=\"#000000\" stroke=\"#000000\" points=\"457.8728,-78.3008 461.2651,-68.2637 452.354,-73.9946 457.8728,-78.3008\"/>\n</g>\n<!-- 9 -->\n<g id=\"node10\" class=\"node\">\n<title>9</title>\n<path fill=\"#efb287\" stroke=\"#000000\" d=\"M763,-187C763,-187 655,-187 655,-187 649,-187 643,-181 643,-175 643,-175 643,-116 643,-116 643,-110 649,-104 655,-104 655,-104 763,-104 763,-104 769,-104 775,-110 775,-116 775,-116 775,-175 775,-175 775,-181 769,-187 763,-187\"/>\n<text text-anchor=\"start\" x=\"660\" y=\"-171.8\" font-family=\"Helvetica,sans-Serif\" font-size=\"14.00\" fill=\"#000000\">tenure ≤ &#45;1.176</text>\n<text text-anchor=\"start\" x=\"671\" y=\"-156.8\" font-family=\"Helvetica,sans-Serif\" font-size=\"14.00\" fill=\"#000000\">gini = 0.404</text>\n<text text-anchor=\"start\" x=\"657\" y=\"-141.8\" font-family=\"Helvetica,sans-Serif\" font-size=\"14.00\" fill=\"#000000\">samples = 1304</text>\n<text text-anchor=\"start\" x=\"651\" y=\"-126.8\" font-family=\"Helvetica,sans-Serif\" font-size=\"14.00\" fill=\"#000000\">value = [937, 367]</text>\n<text text-anchor=\"start\" x=\"680\" y=\"-111.8\" font-family=\"Helvetica,sans-Serif\" font-size=\"14.00\" fill=\"#000000\">class = 0</text>\n</g>\n<!-- 8&#45;&gt;9 -->\n<g id=\"edge9\" class=\"edge\">\n<title>8&#45;&gt;9</title>\n<path fill=\"none\" stroke=\"#000000\" d=\"M709,-222.8796C709,-214.6838 709,-205.9891 709,-197.5013\"/>\n<polygon fill=\"#000000\" stroke=\"#000000\" points=\"712.5001,-197.298 709,-187.2981 705.5001,-197.2981 712.5001,-197.298\"/>\n</g>\n<!-- 12 -->\n<g id=\"node13\" class=\"node\">\n<title>12</title>\n<path fill=\"#d6ebfa\" stroke=\"#000000\" d=\"M988,-187C988,-187 880,-187 880,-187 874,-187 868,-181 868,-175 868,-175 868,-116 868,-116 868,-110 874,-104 880,-104 880,-104 988,-104 988,-104 994,-104 1000,-110 1000,-116 1000,-116 1000,-175 1000,-175 1000,-181 994,-187 988,-187\"/>\n<text text-anchor=\"start\" x=\"885\" y=\"-171.8\" font-family=\"Helvetica,sans-Serif\" font-size=\"14.00\" fill=\"#000000\">tenure ≤ &#45;0.687</text>\n<text text-anchor=\"start\" x=\"896\" y=\"-156.8\" font-family=\"Helvetica,sans-Serif\" font-size=\"14.00\" fill=\"#000000\">gini = 0.493</text>\n<text text-anchor=\"start\" x=\"882\" y=\"-141.8\" font-family=\"Helvetica,sans-Serif\" font-size=\"14.00\" fill=\"#000000\">samples = 1594</text>\n<text text-anchor=\"start\" x=\"876\" y=\"-126.8\" font-family=\"Helvetica,sans-Serif\" font-size=\"14.00\" fill=\"#000000\">value = [705, 889]</text>\n<text text-anchor=\"start\" x=\"905\" y=\"-111.8\" font-family=\"Helvetica,sans-Serif\" font-size=\"14.00\" fill=\"#000000\">class = 1</text>\n</g>\n<!-- 8&#45;&gt;12 -->\n<g id=\"edge12\" class=\"edge\">\n<title>8&#45;&gt;12</title>\n<path fill=\"none\" stroke=\"#000000\" d=\"M787.6941,-222.8796C810.7403,-210.6907 835.8731,-197.3982 858.7027,-185.3239\"/>\n<polygon fill=\"#000000\" stroke=\"#000000\" points=\"860.4587,-188.3546 867.6621,-180.5854 857.1859,-182.1668 860.4587,-188.3546\"/>\n</g>\n<!-- 10 -->\n<g id=\"node11\" class=\"node\">\n<title>10</title>\n<path fill=\"#fbeade\" stroke=\"#000000\" d=\"M688,-68C688,-68 580,-68 580,-68 574,-68 568,-62 568,-56 568,-56 568,-12 568,-12 568,-6 574,0 580,0 580,0 688,0 688,0 694,0 700,-6 700,-12 700,-12 700,-56 700,-56 700,-62 694,-68 688,-68\"/>\n<text text-anchor=\"start\" x=\"596\" y=\"-52.8\" font-family=\"Helvetica,sans-Serif\" font-size=\"14.00\" fill=\"#000000\">gini = 0.496</text>\n<text text-anchor=\"start\" x=\"586\" y=\"-37.8\" font-family=\"Helvetica,sans-Serif\" font-size=\"14.00\" fill=\"#000000\">samples = 435</text>\n<text text-anchor=\"start\" x=\"576\" y=\"-22.8\" font-family=\"Helvetica,sans-Serif\" font-size=\"14.00\" fill=\"#000000\">value = [237, 198]</text>\n<text text-anchor=\"start\" x=\"605\" y=\"-7.8\" font-family=\"Helvetica,sans-Serif\" font-size=\"14.00\" fill=\"#000000\">class = 0</text>\n</g>\n<!-- 9&#45;&gt;10 -->\n<g id=\"edge10\" class=\"edge\">\n<title>9&#45;&gt;10</title>\n<path fill=\"none\" stroke=\"#000000\" d=\"M681.0728,-103.9815C675.0762,-95.0666 668.7296,-85.6313 662.7041,-76.6734\"/>\n<polygon fill=\"#000000\" stroke=\"#000000\" points=\"665.5328,-74.6078 657.0473,-68.2637 659.7245,-78.5147 665.5328,-74.6078\"/>\n</g>\n<!-- 11 -->\n<g id=\"node12\" class=\"node\">\n<title>11</title>\n<path fill=\"#eb9f69\" stroke=\"#000000\" d=\"M838,-68C838,-68 730,-68 730,-68 724,-68 718,-62 718,-56 718,-56 718,-12 718,-12 718,-6 724,0 730,0 730,0 838,0 838,0 844,0 850,-6 850,-12 850,-12 850,-56 850,-56 850,-62 844,-68 838,-68\"/>\n<text text-anchor=\"start\" x=\"746\" y=\"-52.8\" font-family=\"Helvetica,sans-Serif\" font-size=\"14.00\" fill=\"#000000\">gini = 0.313</text>\n<text text-anchor=\"start\" x=\"736\" y=\"-37.8\" font-family=\"Helvetica,sans-Serif\" font-size=\"14.00\" fill=\"#000000\">samples = 869</text>\n<text text-anchor=\"start\" x=\"726\" y=\"-22.8\" font-family=\"Helvetica,sans-Serif\" font-size=\"14.00\" fill=\"#000000\">value = [700, 169]</text>\n<text text-anchor=\"start\" x=\"755\" y=\"-7.8\" font-family=\"Helvetica,sans-Serif\" font-size=\"14.00\" fill=\"#000000\">class = 0</text>\n</g>\n<!-- 9&#45;&gt;11 -->\n<g id=\"edge11\" class=\"edge\">\n<title>9&#45;&gt;11</title>\n<path fill=\"none\" stroke=\"#000000\" d=\"M736.9272,-103.9815C742.9238,-95.0666 749.2704,-85.6313 755.2959,-76.6734\"/>\n<polygon fill=\"#000000\" stroke=\"#000000\" points=\"758.2755,-78.5147 760.9527,-68.2637 752.4672,-74.6078 758.2755,-78.5147\"/>\n</g>\n<!-- 13 -->\n<g id=\"node14\" class=\"node\">\n<title>13</title>\n<path fill=\"#8fc7f0\" stroke=\"#000000\" d=\"M988,-68C988,-68 880,-68 880,-68 874,-68 868,-62 868,-56 868,-56 868,-12 868,-12 868,-6 874,0 880,0 880,0 988,0 988,0 994,0 1000,-6 1000,-12 1000,-12 1000,-56 1000,-56 1000,-62 994,-68 988,-68\"/>\n<text text-anchor=\"start\" x=\"896\" y=\"-52.8\" font-family=\"Helvetica,sans-Serif\" font-size=\"14.00\" fill=\"#000000\">gini = 0.422</text>\n<text text-anchor=\"start\" x=\"886\" y=\"-37.8\" font-family=\"Helvetica,sans-Serif\" font-size=\"14.00\" fill=\"#000000\">samples = 787</text>\n<text text-anchor=\"start\" x=\"876\" y=\"-22.8\" font-family=\"Helvetica,sans-Serif\" font-size=\"14.00\" fill=\"#000000\">value = [238, 549]</text>\n<text text-anchor=\"start\" x=\"905\" y=\"-7.8\" font-family=\"Helvetica,sans-Serif\" font-size=\"14.00\" fill=\"#000000\">class = 1</text>\n</g>\n<!-- 12&#45;&gt;13 -->\n<g id=\"edge13\" class=\"edge\">\n<title>12&#45;&gt;13</title>\n<path fill=\"none\" stroke=\"#000000\" d=\"M934,-103.9815C934,-95.618 934,-86.7965 934,-78.3409\"/>\n<polygon fill=\"#000000\" stroke=\"#000000\" points=\"937.5001,-78.2636 934,-68.2637 930.5001,-78.2637 937.5001,-78.2636\"/>\n</g>\n<!-- 14 -->\n<g id=\"node15\" class=\"node\">\n<title>14</title>\n<path fill=\"#f8ddc9\" stroke=\"#000000\" d=\"M1138,-68C1138,-68 1030,-68 1030,-68 1024,-68 1018,-62 1018,-56 1018,-56 1018,-12 1018,-12 1018,-6 1024,0 1030,0 1030,0 1138,0 1138,0 1144,0 1150,-6 1150,-12 1150,-12 1150,-56 1150,-56 1150,-62 1144,-68 1138,-68\"/>\n<text text-anchor=\"start\" x=\"1046\" y=\"-52.8\" font-family=\"Helvetica,sans-Serif\" font-size=\"14.00\" fill=\"#000000\">gini = 0.488</text>\n<text text-anchor=\"start\" x=\"1036\" y=\"-37.8\" font-family=\"Helvetica,sans-Serif\" font-size=\"14.00\" fill=\"#000000\">samples = 807</text>\n<text text-anchor=\"start\" x=\"1026\" y=\"-22.8\" font-family=\"Helvetica,sans-Serif\" font-size=\"14.00\" fill=\"#000000\">value = [467, 340]</text>\n<text text-anchor=\"start\" x=\"1055\" y=\"-7.8\" font-family=\"Helvetica,sans-Serif\" font-size=\"14.00\" fill=\"#000000\">class = 0</text>\n</g>\n<!-- 12&#45;&gt;14 -->\n<g id=\"edge14\" class=\"edge\">\n<title>12&#45;&gt;14</title>\n<path fill=\"none\" stroke=\"#000000\" d=\"M989.8545,-103.9815C1002.8368,-94.3313 1016.6394,-84.0714 1029.5597,-74.4673\"/>\n<polygon fill=\"#000000\" stroke=\"#000000\" points=\"1031.9678,-77.0384 1037.9054,-68.2637 1027.7917,-71.4204 1031.9678,-77.0384\"/>\n</g>\n</g>\n</svg>\n"
          },
          "metadata": {
            "tags": []
          },
          "execution_count": 84
        }
      ]
    }
  ]
}